{
 "cells": [
  {
   "cell_type": "code",
   "execution_count": 1,
   "metadata": {},
   "outputs": [],
   "source": [
    "import pandas as pd\n",
    "import json\n",
    "pd.options.display.max_rows = 10000\n",
    "from pandas.io.json import json_normalize"
   ]
  },
  {
   "cell_type": "code",
   "execution_count": 2,
   "metadata": {},
   "outputs": [],
   "source": [
    "#import jan 2018 - oct 2018 citi bike trip data\n",
    "trips = pd.read_csv('tripdata_2018.csv')"
   ]
  },
  {
   "cell_type": "code",
   "execution_count": 3,
   "metadata": {},
   "outputs": [],
   "source": [
    "#change data and station number data types\n",
    "trips['starttime'] = pd.to_datetime(trips['starttime'])\n",
    "trips['stoptime'] = pd.to_datetime(trips['stoptime'])\n",
    "trips['start station id'] = trips['start station id'].fillna(0).astype(str)\n",
    "trips['end station id'] = trips['end station id'].fillna(0).astype(str)"
   ]
  },
  {
   "cell_type": "code",
   "execution_count": 4,
   "metadata": {},
   "outputs": [
    {
     "data": {
      "text/html": [
       "<div>\n",
       "<style scoped>\n",
       "    .dataframe tbody tr th:only-of-type {\n",
       "        vertical-align: middle;\n",
       "    }\n",
       "\n",
       "    .dataframe tbody tr th {\n",
       "        vertical-align: top;\n",
       "    }\n",
       "\n",
       "    .dataframe thead th {\n",
       "        text-align: right;\n",
       "    }\n",
       "</style>\n",
       "<table border=\"1\" class=\"dataframe\">\n",
       "  <thead>\n",
       "    <tr style=\"text-align: right;\">\n",
       "      <th></th>\n",
       "      <th>Unnamed: 0</th>\n",
       "      <th>tripduration</th>\n",
       "      <th>starttime</th>\n",
       "      <th>stoptime</th>\n",
       "      <th>start station id</th>\n",
       "      <th>start station name</th>\n",
       "      <th>start station latitude</th>\n",
       "      <th>start station longitude</th>\n",
       "      <th>end station id</th>\n",
       "      <th>end station name</th>\n",
       "      <th>end station latitude</th>\n",
       "      <th>end station longitude</th>\n",
       "      <th>bikeid</th>\n",
       "      <th>usertype</th>\n",
       "      <th>birth year</th>\n",
       "      <th>gender</th>\n",
       "    </tr>\n",
       "  </thead>\n",
       "  <tbody>\n",
       "    <tr>\n",
       "      <th>0</th>\n",
       "      <td>0</td>\n",
       "      <td>970</td>\n",
       "      <td>2018-01-01 13:50:57.434</td>\n",
       "      <td>2018-01-01 14:07:08.186</td>\n",
       "      <td>72.0</td>\n",
       "      <td>W 52 St &amp; 11 Ave</td>\n",
       "      <td>40.767272</td>\n",
       "      <td>-73.993929</td>\n",
       "      <td>505.0</td>\n",
       "      <td>6 Ave &amp; W 33 St</td>\n",
       "      <td>40.749013</td>\n",
       "      <td>-73.988484</td>\n",
       "      <td>31956</td>\n",
       "      <td>Subscriber</td>\n",
       "      <td>1992</td>\n",
       "      <td>1</td>\n",
       "    </tr>\n",
       "    <tr>\n",
       "      <th>1</th>\n",
       "      <td>1</td>\n",
       "      <td>723</td>\n",
       "      <td>2018-01-01 15:33:30.182</td>\n",
       "      <td>2018-01-01 15:45:33.341</td>\n",
       "      <td>72.0</td>\n",
       "      <td>W 52 St &amp; 11 Ave</td>\n",
       "      <td>40.767272</td>\n",
       "      <td>-73.993929</td>\n",
       "      <td>3255.0</td>\n",
       "      <td>8 Ave &amp; W 31 St</td>\n",
       "      <td>40.750585</td>\n",
       "      <td>-73.994685</td>\n",
       "      <td>32536</td>\n",
       "      <td>Subscriber</td>\n",
       "      <td>1969</td>\n",
       "      <td>1</td>\n",
       "    </tr>\n",
       "    <tr>\n",
       "      <th>2</th>\n",
       "      <td>2</td>\n",
       "      <td>496</td>\n",
       "      <td>2018-01-01 15:39:18.337</td>\n",
       "      <td>2018-01-01 15:47:35.172</td>\n",
       "      <td>72.0</td>\n",
       "      <td>W 52 St &amp; 11 Ave</td>\n",
       "      <td>40.767272</td>\n",
       "      <td>-73.993929</td>\n",
       "      <td>525.0</td>\n",
       "      <td>W 34 St &amp; 11 Ave</td>\n",
       "      <td>40.755942</td>\n",
       "      <td>-74.002116</td>\n",
       "      <td>16069</td>\n",
       "      <td>Subscriber</td>\n",
       "      <td>1956</td>\n",
       "      <td>1</td>\n",
       "    </tr>\n",
       "    <tr>\n",
       "      <th>3</th>\n",
       "      <td>3</td>\n",
       "      <td>306</td>\n",
       "      <td>2018-01-01 15:40:13.372</td>\n",
       "      <td>2018-01-01 15:45:20.191</td>\n",
       "      <td>72.0</td>\n",
       "      <td>W 52 St &amp; 11 Ave</td>\n",
       "      <td>40.767272</td>\n",
       "      <td>-73.993929</td>\n",
       "      <td>447.0</td>\n",
       "      <td>8 Ave &amp; W 52 St</td>\n",
       "      <td>40.763707</td>\n",
       "      <td>-73.985162</td>\n",
       "      <td>31781</td>\n",
       "      <td>Subscriber</td>\n",
       "      <td>1974</td>\n",
       "      <td>1</td>\n",
       "    </tr>\n",
       "    <tr>\n",
       "      <th>4</th>\n",
       "      <td>4</td>\n",
       "      <td>306</td>\n",
       "      <td>2018-01-01 18:14:51.568</td>\n",
       "      <td>2018-01-01 18:19:57.642</td>\n",
       "      <td>72.0</td>\n",
       "      <td>W 52 St &amp; 11 Ave</td>\n",
       "      <td>40.767272</td>\n",
       "      <td>-73.993929</td>\n",
       "      <td>3356.0</td>\n",
       "      <td>Amsterdam Ave &amp; W 66 St</td>\n",
       "      <td>40.774667</td>\n",
       "      <td>-73.984706</td>\n",
       "      <td>30319</td>\n",
       "      <td>Subscriber</td>\n",
       "      <td>1992</td>\n",
       "      <td>1</td>\n",
       "    </tr>\n",
       "  </tbody>\n",
       "</table>\n",
       "</div>"
      ],
      "text/plain": [
       "   Unnamed: 0  tripduration               starttime                stoptime  \\\n",
       "0           0           970 2018-01-01 13:50:57.434 2018-01-01 14:07:08.186   \n",
       "1           1           723 2018-01-01 15:33:30.182 2018-01-01 15:45:33.341   \n",
       "2           2           496 2018-01-01 15:39:18.337 2018-01-01 15:47:35.172   \n",
       "3           3           306 2018-01-01 15:40:13.372 2018-01-01 15:45:20.191   \n",
       "4           4           306 2018-01-01 18:14:51.568 2018-01-01 18:19:57.642   \n",
       "\n",
       "  start station id start station name  start station latitude  \\\n",
       "0             72.0   W 52 St & 11 Ave               40.767272   \n",
       "1             72.0   W 52 St & 11 Ave               40.767272   \n",
       "2             72.0   W 52 St & 11 Ave               40.767272   \n",
       "3             72.0   W 52 St & 11 Ave               40.767272   \n",
       "4             72.0   W 52 St & 11 Ave               40.767272   \n",
       "\n",
       "   start station longitude end station id         end station name  \\\n",
       "0               -73.993929          505.0          6 Ave & W 33 St   \n",
       "1               -73.993929         3255.0          8 Ave & W 31 St   \n",
       "2               -73.993929          525.0         W 34 St & 11 Ave   \n",
       "3               -73.993929          447.0          8 Ave & W 52 St   \n",
       "4               -73.993929         3356.0  Amsterdam Ave & W 66 St   \n",
       "\n",
       "   end station latitude  end station longitude  bikeid    usertype  \\\n",
       "0             40.749013             -73.988484   31956  Subscriber   \n",
       "1             40.750585             -73.994685   32536  Subscriber   \n",
       "2             40.755942             -74.002116   16069  Subscriber   \n",
       "3             40.763707             -73.985162   31781  Subscriber   \n",
       "4             40.774667             -73.984706   30319  Subscriber   \n",
       "\n",
       "   birth year  gender  \n",
       "0        1992       1  \n",
       "1        1969       1  \n",
       "2        1956       1  \n",
       "3        1974       1  \n",
       "4        1992       1  "
      ]
     },
     "execution_count": 4,
     "metadata": {},
     "output_type": "execute_result"
    }
   ],
   "source": [
    "trips.head()"
   ]
  },
  {
   "cell_type": "code",
   "execution_count": 5,
   "metadata": {},
   "outputs": [],
   "source": [
    "#get list of possible e-bikes"
   ]
  },
  {
   "cell_type": "code",
   "execution_count": 239,
   "metadata": {},
   "outputs": [
    {
     "data": {
      "text/html": [
       "<div>\n",
       "<style scoped>\n",
       "    .dataframe tbody tr th:only-of-type {\n",
       "        vertical-align: middle;\n",
       "    }\n",
       "\n",
       "    .dataframe tbody tr th {\n",
       "        vertical-align: top;\n",
       "    }\n",
       "\n",
       "    .dataframe thead th {\n",
       "        text-align: right;\n",
       "    }\n",
       "</style>\n",
       "<table border=\"1\" class=\"dataframe\">\n",
       "  <thead>\n",
       "    <tr style=\"text-align: right;\">\n",
       "      <th></th>\n",
       "      <th>bikeid</th>\n",
       "    </tr>\n",
       "  </thead>\n",
       "  <tbody>\n",
       "    <tr>\n",
       "      <th>10700351</th>\n",
       "      <td>30808</td>\n",
       "    </tr>\n",
       "    <tr>\n",
       "      <th>10700352</th>\n",
       "      <td>21382</td>\n",
       "    </tr>\n",
       "    <tr>\n",
       "      <th>10700353</th>\n",
       "      <td>20847</td>\n",
       "    </tr>\n",
       "    <tr>\n",
       "      <th>10700354</th>\n",
       "      <td>28424</td>\n",
       "    </tr>\n",
       "    <tr>\n",
       "      <th>10700355</th>\n",
       "      <td>33372</td>\n",
       "    </tr>\n",
       "  </tbody>\n",
       "</table>\n",
       "</div>"
      ],
      "text/plain": [
       "          bikeid\n",
       "10700351   30808\n",
       "10700352   21382\n",
       "10700353   20847\n",
       "10700354   28424\n",
       "10700355   33372"
      ]
     },
     "execution_count": 239,
     "metadata": {},
     "output_type": "execute_result"
    }
   ],
   "source": [
    "#citi bike launched e-bikes on august 20, 2018\n",
    "#get trips that occured from launch day to the end of august or after launch (al)\n",
    "trips_al = trips[trips['starttime'] >= '2018-08-20']\n",
    "trips_al = trips_al[trips_al['starttime'] <= '2018-08-31']\n",
    "\n",
    "#remove duplicates to isolate distince bikes that existed after launch\n",
    "bikeids_al = trips_al[['bikeid']].drop_duplicates(keep='first')\n",
    "bikeids_al.head()"
   ]
  },
  {
   "cell_type": "code",
   "execution_count": 240,
   "metadata": {},
   "outputs": [],
   "source": [
    "#get trips that occured before launch (bl)\n",
    "trips_bl = trips[trips['starttime'] < '2018-08-20']\n",
    "\n",
    "#remove duplicates to isolate distince bikes that existed after launch\n",
    "bikeids_bl = trips_bl[['bikeid']].drop_duplicates(keep='first')"
   ]
  },
  {
   "cell_type": "code",
   "execution_count": 241,
   "metadata": {},
   "outputs": [
    {
     "data": {
      "text/html": [
       "<div>\n",
       "<style scoped>\n",
       "    .dataframe tbody tr th:only-of-type {\n",
       "        vertical-align: middle;\n",
       "    }\n",
       "\n",
       "    .dataframe tbody tr th {\n",
       "        vertical-align: top;\n",
       "    }\n",
       "\n",
       "    .dataframe thead th {\n",
       "        text-align: right;\n",
       "    }\n",
       "</style>\n",
       "<table border=\"1\" class=\"dataframe\">\n",
       "  <thead>\n",
       "    <tr style=\"text-align: right;\">\n",
       "      <th></th>\n",
       "      <th>bikeid</th>\n",
       "    </tr>\n",
       "  </thead>\n",
       "  <tbody>\n",
       "    <tr>\n",
       "      <th>10779</th>\n",
       "      <td>17635</td>\n",
       "    </tr>\n",
       "    <tr>\n",
       "      <th>10766</th>\n",
       "      <td>17672</td>\n",
       "    </tr>\n",
       "    <tr>\n",
       "      <th>10759</th>\n",
       "      <td>18333</td>\n",
       "    </tr>\n",
       "    <tr>\n",
       "      <th>10697</th>\n",
       "      <td>19254</td>\n",
       "    </tr>\n",
       "    <tr>\n",
       "      <th>10686</th>\n",
       "      <td>24812</td>\n",
       "    </tr>\n",
       "  </tbody>\n",
       "</table>\n",
       "</div>"
      ],
      "text/plain": [
       "       bikeid\n",
       "10779   17635\n",
       "10766   17672\n",
       "10759   18333\n",
       "10697   19254\n",
       "10686   24812"
      ]
     },
     "execution_count": 241,
     "metadata": {},
     "output_type": "execute_result"
    }
   ],
   "source": [
    "#right join dataframes where the bikes that exist after launch but don't exist before are null \n",
    "bikeids_al['after'] = 1\n",
    "bikeids_bl['before'] = 1\n",
    "bikeid_merge = pd.merge(bikeids_bl, bikeids_al, on='bikeid', how='right')\n",
    "\n",
    "#keep null bikes as possible ebikes\n",
    "possible_ebikes = bikeid_merge[bikeid_merge.before.isnull()][['bikeid']].sort_values(by=['bikeid'])\n",
    "possible_ebikes['bikeid'] = pd.to_numeric(possible_ebikes['bikeid'])\n",
    "possible_ebikes.head()"
   ]
  },
  {
   "cell_type": "code",
   "execution_count": 9,
   "metadata": {},
   "outputs": [
    {
     "data": {
      "text/plain": [
       "bikeid    231\n",
       "dtype: int64"
      ]
     },
     "execution_count": 9,
     "metadata": {},
     "output_type": "execute_result"
    }
   ],
   "source": [
    "#count number of possible ebikes\n",
    "possible_ebikes.count()"
   ]
  },
  {
   "cell_type": "code",
   "execution_count": 10,
   "metadata": {},
   "outputs": [],
   "source": [
    "#save possible_ebikes to csv\n",
    "possible_ebikes.to_csv('potential_ebikes.csv')"
   ]
  },
  {
   "cell_type": "code",
   "execution_count": null,
   "metadata": {},
   "outputs": [],
   "source": []
  },
  {
   "cell_type": "code",
   "execution_count": 23,
   "metadata": {},
   "outputs": [],
   "source": [
    "#from trip df, get times when bikes were docked at stations"
   ]
  },
  {
   "cell_type": "code",
   "execution_count": 27,
   "metadata": {},
   "outputs": [],
   "source": [
    "#get trip data for when station snapshots were taken as snapshot timeframe (ss_tf)\n",
    "ss_tf = trips[trips['stoptime'] >= '2018-10-15']\n",
    "ss_tf = ss_tf[ss_tf['stoptime'] < '2018-11-01']\n",
    "ss_tf.count()\n",
    "\n",
    "#sort df by 'bikeid' and 'starttime'\n",
    "ss_tf = ss_tf.sort_values(['bikeid','starttime'])"
   ]
  },
  {
   "cell_type": "code",
   "execution_count": 29,
   "metadata": {},
   "outputs": [],
   "source": [
    "#from trip data (start station A to end station B), get time at dock (end station B to start station B)\n",
    "#to do this, in sorted df shift 'starttime', 'start station id' and 'bikeid' one row up\n",
    "shifted_stations = ss_tf[['starttime']].shift(-1)\n",
    "shifted_stations['bikeid_shift'] = ss_tf[['bikeid']].shift(-1)\n",
    "shifted_stations['start_station_id_shift'] = ss_tf[['start station id']].shift(-1)\n",
    " \n",
    "#rename 'starttime' column that was shifted\n",
    "shifted_stations = shifted_stations.rename(columns={\"starttime\":\"starttime_shift\"})"
   ]
  },
  {
   "cell_type": "code",
   "execution_count": 33,
   "metadata": {},
   "outputs": [],
   "source": [
    "#join snapshot timeframe df with shifted stations to get time at dock (end station B from ss_tf to start station B from shifter_stations)\n",
    "docked_bikes = pd.merge(ss_tf, shifted_stations, left_index=True, right_index=True, how='left')\n",
    "docked_bikes = docked_bikes.sort_values(['bikeid','starttime'])"
   ]
  },
  {
   "cell_type": "code",
   "execution_count": 34,
   "metadata": {},
   "outputs": [
    {
     "data": {
      "text/plain": [
       "Unnamed: 0                 925241\n",
       "tripduration               925241\n",
       "starttime                  925241\n",
       "stoptime                   925241\n",
       "start station id           925241\n",
       "start station name         925194\n",
       "start station latitude     925241\n",
       "start station longitude    925241\n",
       "end station id             925241\n",
       "end station name           925194\n",
       "end station latitude       925241\n",
       "end station longitude      925241\n",
       "bikeid                     925241\n",
       "usertype                   925241\n",
       "birth year                 925241\n",
       "gender                     925241\n",
       "starttime_shift            925241\n",
       "bikeid_shift               925241\n",
       "start_station_id_shift     925241\n",
       "dtype: int64"
      ]
     },
     "execution_count": 34,
     "metadata": {},
     "output_type": "execute_result"
    }
   ],
   "source": [
    "#with sorted df, remove the last trip of each bike(when bikeid != bikeid)\n",
    "#remove rows where 'end station id' != 'start_station_id_shift' \n",
    "docked_bikes = docked_bikes[docked_bikes['bikeid'] == docked_bikes['bikeid_shift']]\n",
    "docked_bikes = docked_bikes[docked_bikes['end station id'] == docked_bikes['start_station_id_shift']]\n",
    "docked_bikes.count()"
   ]
  },
  {
   "cell_type": "code",
   "execution_count": 35,
   "metadata": {},
   "outputs": [
    {
     "data": {
      "text/html": [
       "<div>\n",
       "<style scoped>\n",
       "    .dataframe tbody tr th:only-of-type {\n",
       "        vertical-align: middle;\n",
       "    }\n",
       "\n",
       "    .dataframe tbody tr th {\n",
       "        vertical-align: top;\n",
       "    }\n",
       "\n",
       "    .dataframe thead th {\n",
       "        text-align: right;\n",
       "    }\n",
       "</style>\n",
       "<table border=\"1\" class=\"dataframe\">\n",
       "  <thead>\n",
       "    <tr style=\"text-align: right;\">\n",
       "      <th></th>\n",
       "      <th>Unnamed: 0</th>\n",
       "      <th>tripduration</th>\n",
       "      <th>starttime</th>\n",
       "      <th>stoptime</th>\n",
       "      <th>start station id</th>\n",
       "      <th>start station name</th>\n",
       "      <th>start station latitude</th>\n",
       "      <th>start station longitude</th>\n",
       "      <th>end station id</th>\n",
       "      <th>end station name</th>\n",
       "      <th>end station latitude</th>\n",
       "      <th>end station longitude</th>\n",
       "      <th>bikeid</th>\n",
       "      <th>usertype</th>\n",
       "      <th>birth year</th>\n",
       "      <th>gender</th>\n",
       "      <th>starttime_shift</th>\n",
       "      <th>bikeid_shift</th>\n",
       "      <th>start_station_id_shift</th>\n",
       "    </tr>\n",
       "  </thead>\n",
       "  <tbody>\n",
       "    <tr>\n",
       "      <th>14309326</th>\n",
       "      <td>916504</td>\n",
       "      <td>354</td>\n",
       "      <td>2018-10-15 07:14:31.684</td>\n",
       "      <td>2018-10-15 07:20:26.594</td>\n",
       "      <td>252.0</td>\n",
       "      <td>MacDougal St &amp; Washington Sq</td>\n",
       "      <td>40.732264</td>\n",
       "      <td>-73.998522</td>\n",
       "      <td>168.0</td>\n",
       "      <td>W 18 St &amp; 6 Ave</td>\n",
       "      <td>40.739713</td>\n",
       "      <td>-73.994564</td>\n",
       "      <td>14529</td>\n",
       "      <td>Subscriber</td>\n",
       "      <td>1993</td>\n",
       "      <td>1</td>\n",
       "      <td>2018-10-15 07:54:53.735</td>\n",
       "      <td>14529.0</td>\n",
       "      <td>168.0</td>\n",
       "    </tr>\n",
       "    <tr>\n",
       "      <th>14311583</th>\n",
       "      <td>918761</td>\n",
       "      <td>607</td>\n",
       "      <td>2018-10-15 07:54:53.735</td>\n",
       "      <td>2018-10-15 08:05:01.548</td>\n",
       "      <td>168.0</td>\n",
       "      <td>W 18 St &amp; 6 Ave</td>\n",
       "      <td>40.739713</td>\n",
       "      <td>-73.994564</td>\n",
       "      <td>524.0</td>\n",
       "      <td>W 43 St &amp; 6 Ave</td>\n",
       "      <td>40.755273</td>\n",
       "      <td>-73.983169</td>\n",
       "      <td>14529</td>\n",
       "      <td>Subscriber</td>\n",
       "      <td>1995</td>\n",
       "      <td>1</td>\n",
       "      <td>2018-10-15 16:46:20.623</td>\n",
       "      <td>14529.0</td>\n",
       "      <td>524.0</td>\n",
       "    </tr>\n",
       "    <tr>\n",
       "      <th>14338718</th>\n",
       "      <td>945896</td>\n",
       "      <td>484</td>\n",
       "      <td>2018-10-15 16:46:20.623</td>\n",
       "      <td>2018-10-15 16:54:25.333</td>\n",
       "      <td>524.0</td>\n",
       "      <td>W 43 St &amp; 6 Ave</td>\n",
       "      <td>40.755273</td>\n",
       "      <td>-73.983169</td>\n",
       "      <td>495.0</td>\n",
       "      <td>W 47 St &amp; 10 Ave</td>\n",
       "      <td>40.762699</td>\n",
       "      <td>-73.993012</td>\n",
       "      <td>14529</td>\n",
       "      <td>Subscriber</td>\n",
       "      <td>1961</td>\n",
       "      <td>1</td>\n",
       "      <td>2018-10-15 16:59:37.475</td>\n",
       "      <td>14529.0</td>\n",
       "      <td>495.0</td>\n",
       "    </tr>\n",
       "    <tr>\n",
       "      <th>14339756</th>\n",
       "      <td>946934</td>\n",
       "      <td>782</td>\n",
       "      <td>2018-10-15 16:59:37.475</td>\n",
       "      <td>2018-10-15 17:12:39.793</td>\n",
       "      <td>495.0</td>\n",
       "      <td>W 47 St &amp; 10 Ave</td>\n",
       "      <td>40.762699</td>\n",
       "      <td>-73.993012</td>\n",
       "      <td>440.0</td>\n",
       "      <td>E 45 St &amp; 3 Ave</td>\n",
       "      <td>40.752554</td>\n",
       "      <td>-73.972826</td>\n",
       "      <td>14529</td>\n",
       "      <td>Subscriber</td>\n",
       "      <td>1958</td>\n",
       "      <td>1</td>\n",
       "      <td>2018-10-15 17:24:56.899</td>\n",
       "      <td>14529.0</td>\n",
       "      <td>440.0</td>\n",
       "    </tr>\n",
       "    <tr>\n",
       "      <th>14342488</th>\n",
       "      <td>949666</td>\n",
       "      <td>795</td>\n",
       "      <td>2018-10-15 17:24:56.899</td>\n",
       "      <td>2018-10-15 17:38:12.146</td>\n",
       "      <td>440.0</td>\n",
       "      <td>E 45 St &amp; 3 Ave</td>\n",
       "      <td>40.752554</td>\n",
       "      <td>-73.972826</td>\n",
       "      <td>492.0</td>\n",
       "      <td>W 33 St &amp; 7 Ave</td>\n",
       "      <td>40.750200</td>\n",
       "      <td>-73.990931</td>\n",
       "      <td>14529</td>\n",
       "      <td>Subscriber</td>\n",
       "      <td>1978</td>\n",
       "      <td>1</td>\n",
       "      <td>2018-10-15 18:19:14.382</td>\n",
       "      <td>14529.0</td>\n",
       "      <td>492.0</td>\n",
       "    </tr>\n",
       "  </tbody>\n",
       "</table>\n",
       "</div>"
      ],
      "text/plain": [
       "          Unnamed: 0  tripduration               starttime  \\\n",
       "14309326      916504           354 2018-10-15 07:14:31.684   \n",
       "14311583      918761           607 2018-10-15 07:54:53.735   \n",
       "14338718      945896           484 2018-10-15 16:46:20.623   \n",
       "14339756      946934           782 2018-10-15 16:59:37.475   \n",
       "14342488      949666           795 2018-10-15 17:24:56.899   \n",
       "\n",
       "                        stoptime start station id  \\\n",
       "14309326 2018-10-15 07:20:26.594            252.0   \n",
       "14311583 2018-10-15 08:05:01.548            168.0   \n",
       "14338718 2018-10-15 16:54:25.333            524.0   \n",
       "14339756 2018-10-15 17:12:39.793            495.0   \n",
       "14342488 2018-10-15 17:38:12.146            440.0   \n",
       "\n",
       "                    start station name  start station latitude  \\\n",
       "14309326  MacDougal St & Washington Sq               40.732264   \n",
       "14311583               W 18 St & 6 Ave               40.739713   \n",
       "14338718               W 43 St & 6 Ave               40.755273   \n",
       "14339756              W 47 St & 10 Ave               40.762699   \n",
       "14342488               E 45 St & 3 Ave               40.752554   \n",
       "\n",
       "          start station longitude end station id  end station name  \\\n",
       "14309326               -73.998522          168.0   W 18 St & 6 Ave   \n",
       "14311583               -73.994564          524.0   W 43 St & 6 Ave   \n",
       "14338718               -73.983169          495.0  W 47 St & 10 Ave   \n",
       "14339756               -73.993012          440.0   E 45 St & 3 Ave   \n",
       "14342488               -73.972826          492.0   W 33 St & 7 Ave   \n",
       "\n",
       "          end station latitude  end station longitude  bikeid    usertype  \\\n",
       "14309326             40.739713             -73.994564   14529  Subscriber   \n",
       "14311583             40.755273             -73.983169   14529  Subscriber   \n",
       "14338718             40.762699             -73.993012   14529  Subscriber   \n",
       "14339756             40.752554             -73.972826   14529  Subscriber   \n",
       "14342488             40.750200             -73.990931   14529  Subscriber   \n",
       "\n",
       "          birth year  gender         starttime_shift  bikeid_shift  \\\n",
       "14309326        1993       1 2018-10-15 07:54:53.735       14529.0   \n",
       "14311583        1995       1 2018-10-15 16:46:20.623       14529.0   \n",
       "14338718        1961       1 2018-10-15 16:59:37.475       14529.0   \n",
       "14339756        1958       1 2018-10-15 17:24:56.899       14529.0   \n",
       "14342488        1978       1 2018-10-15 18:19:14.382       14529.0   \n",
       "\n",
       "         start_station_id_shift  \n",
       "14309326                  168.0  \n",
       "14311583                  524.0  \n",
       "14338718                  495.0  \n",
       "14339756                  440.0  \n",
       "14342488                  492.0  "
      ]
     },
     "execution_count": 35,
     "metadata": {},
     "output_type": "execute_result"
    }
   ],
   "source": [
    "docked_bikes.head()"
   ]
  },
  {
   "cell_type": "code",
   "execution_count": 36,
   "metadata": {},
   "outputs": [],
   "source": [
    "docked_bikes.to_csv('bikes_at_station.csv')"
   ]
  },
  {
   "cell_type": "code",
   "execution_count": null,
   "metadata": {},
   "outputs": [],
   "source": []
  },
  {
   "cell_type": "code",
   "execution_count": 180,
   "metadata": {},
   "outputs": [],
   "source": [
    "#get station snapshots to see which stations had ebikes at certain times\n",
    "#station snapshots were taken from citi bike's live station information feed at random intervals during october"
   ]
  },
  {
   "cell_type": "code",
   "execution_count": 242,
   "metadata": {},
   "outputs": [],
   "source": [
    "#create livefeed (lf) dictionary\n",
    "lf_dict = {'2018-10-16 10:42:00': '2018-10-16_104200', '2018-10-16 10:52:00': '2018-10-16_105200', \n",
    "'2018-10-17 19:39:00': '2018-10-17_193900', '2018-10-21 11:30:00': '2018-10-21_113000', \n",
    "'2018-10-25 23:33:00': '2018-10-25_233300', '2018-10-26 13:52:00': '2018-10-26_135200', \n",
    "'2018-10-29 12:25:00': '2018-10-29_122500', '2018-10-29 19:03:00': '2018-10-29_190300',\n",
    "'2018-10-30 20:24:00': '2018-10-30_202400', '2018-10-30 22:48:00': '2018-10-30_224800'}"
   ]
  },
  {
   "cell_type": "code",
   "execution_count": 258,
   "metadata": {},
   "outputs": [],
   "source": [
    "#gets the bikes from 'poss_ebikes' that are false positives (ie not e-bikes)\n",
    "\n",
    "disqualified_bikes = pd.DataFrame()\n",
    "for key in lf_dict:\n",
    "\n",
    "    other_date_format = lf_dict[key]\n",
    "    lf_json = pd.read_json('live_feed/citibike_live_feed_' + other_date_format + '.json')\n",
    "    lf = json_normalize(lf_json['data'][0])\n",
    "\n",
    "    #remove false positive ebikes\n",
    "    #get stations without any ebikes\n",
    "    lf = lf[lf['num_ebikes_available'] == 0]\n",
    "\n",
    "    #get bikes that were at stations when snapshot was taken\n",
    "    docked = docked_bikes[docked_bikes['starttime_shift'] >= key]\n",
    "    docked = docked[docked['stoptime'] <= key]\n",
    "\n",
    "    #get the bikeids present in 'possible_ebikes' and 'disqualified'\n",
    "    disqualify = docked.merge(possible_ebikes, how='inner', on=['bikeid','bikeid'])\n",
    "    disqualified_bikes = disqualified_bikes.append(disqualify[['bikeid']])"
   ]
  },
  {
   "cell_type": "code",
   "execution_count": 259,
   "metadata": {},
   "outputs": [],
   "source": [
    "#remove duplicates\n",
    "disqualified_bikes = disqualified_bikes[['bikeid']].drop_duplicates(keep='first')"
   ]
  },
  {
   "cell_type": "code",
   "execution_count": 260,
   "metadata": {},
   "outputs": [
    {
     "data": {
      "text/html": [
       "<div>\n",
       "<style scoped>\n",
       "    .dataframe tbody tr th:only-of-type {\n",
       "        vertical-align: middle;\n",
       "    }\n",
       "\n",
       "    .dataframe tbody tr th {\n",
       "        vertical-align: top;\n",
       "    }\n",
       "\n",
       "    .dataframe thead th {\n",
       "        text-align: right;\n",
       "    }\n",
       "</style>\n",
       "<table border=\"1\" class=\"dataframe\">\n",
       "  <thead>\n",
       "    <tr style=\"text-align: right;\">\n",
       "      <th></th>\n",
       "      <th>bikeid</th>\n",
       "      <th>type</th>\n",
       "    </tr>\n",
       "  </thead>\n",
       "  <tbody>\n",
       "    <tr>\n",
       "      <th>4</th>\n",
       "      <td>24812</td>\n",
       "      <td>NaN</td>\n",
       "    </tr>\n",
       "    <tr>\n",
       "      <th>5</th>\n",
       "      <td>26194</td>\n",
       "      <td>NaN</td>\n",
       "    </tr>\n",
       "    <tr>\n",
       "      <th>10</th>\n",
       "      <td>29289</td>\n",
       "      <td>NaN</td>\n",
       "    </tr>\n",
       "    <tr>\n",
       "      <th>14</th>\n",
       "      <td>34422</td>\n",
       "      <td>NaN</td>\n",
       "    </tr>\n",
       "    <tr>\n",
       "      <th>15</th>\n",
       "      <td>34425</td>\n",
       "      <td>NaN</td>\n",
       "    </tr>\n",
       "  </tbody>\n",
       "</table>\n",
       "</div>"
      ],
      "text/plain": [
       "    bikeid  type\n",
       "4    24812   NaN\n",
       "5    26194   NaN\n",
       "10   29289   NaN\n",
       "14   34422   NaN\n",
       "15   34425   NaN"
      ]
     },
     "execution_count": 260,
     "metadata": {},
     "output_type": "execute_result"
    }
   ],
   "source": [
    "#get the possible ebike again and remove the disqualified bikes\n",
    "disqualified_bikes['type'] = 1\n",
    "poss_ebikes_2 = possible_ebikes.merge(disqualified_bikes, how='left', on='bikeid')\n",
    "poss_ebikes_2 = poss_ebikes_2[poss_ebikes_2['type'].isnull()]\n",
    "poss_ebikes_2.head()"
   ]
  },
  {
   "cell_type": "code",
   "execution_count": null,
   "metadata": {},
   "outputs": [],
   "source": []
  },
  {
   "cell_type": "code",
   "execution_count": 261,
   "metadata": {},
   "outputs": [],
   "source": [
    "#add type of bike identifier to trips df (1 = possible ebike, 0 = regular bike)\n",
    "poss_ebikes_2 = poss_ebikes_2.fillna(1)\n",
    "trips = trips.merge(disqualified_bikes[['bikeid','type']], how='left', on='bikeid').fillna(0)"
   ]
  },
  {
   "cell_type": "code",
   "execution_count": 272,
   "metadata": {},
   "outputs": [],
   "source": [
    "trips.to_csv('trips_ebike_id.csv')"
   ]
  },
  {
   "cell_type": "code",
   "execution_count": null,
   "metadata": {},
   "outputs": [],
   "source": []
  },
  {
   "cell_type": "code",
   "execution_count": 267,
   "metadata": {},
   "outputs": [
    {
     "data": {
      "text/plain": [
       "bikeid    14851\n",
       "dtype: int64"
      ]
     },
     "execution_count": 267,
     "metadata": {},
     "output_type": "execute_result"
    }
   ],
   "source": [
    "#try out the same exercise using all bike ids (without possible ebike)\n",
    "\n",
    "bike_list = trips[['bikeid']].drop_duplicates(keep='first')\n",
    "bike_list.count()"
   ]
  },
  {
   "cell_type": "code",
   "execution_count": 268,
   "metadata": {},
   "outputs": [
    {
     "name": "stderr",
     "output_type": "stream",
     "text": [
      "/anaconda2/envs/py36/lib/python3.6/site-packages/pandas/core/frame.py:6201: FutureWarning: Sorting because non-concatenation axis is not aligned. A future version\n",
      "of pandas will change to not sort by default.\n",
      "\n",
      "To accept the future behavior, pass 'sort=True'.\n",
      "\n",
      "To retain the current behavior and silence the warning, pass sort=False\n",
      "\n",
      "  sort=sort)\n"
     ]
    }
   ],
   "source": [
    "#gets the bikes from 'poss_ebikes' that are false positives (ie not e-bikes)\n",
    "\n",
    "disqualified_bikes = pd.DataFrame()\n",
    "for key in lf_dict:\n",
    "\n",
    "    other_date_format = lf_dict[key]\n",
    "    lf_json = pd.read_json('live_feed/citibike_live_feed_' + other_date_format + '.json')\n",
    "    lf = json_normalize(lf_json['data'][0])\n",
    "\n",
    "    #remove false positive ebikes\n",
    "    #get stations without any ebikes\n",
    "    lf = lf[lf['num_ebikes_available'] == 0]\n",
    "\n",
    "    #get bikes that were at stations when snapshot was taken\n",
    "    docked = docked_bikes[docked_bikes['starttime_shift'] >= key]\n",
    "    docked = docked[docked['stoptime'] <= key]\n",
    "\n",
    "    #get the bikeids present in 'possible_ebikes' and 'disqualified'\n",
    "    disqualify_all = docked.merge(bike_list, how='inner', on=['bikeid','bikeid'])\n",
    "    disqualified_bikes_all = disqualified_bikes_all.append(disqualify_all[['bikeid']])"
   ]
  },
  {
   "cell_type": "code",
   "execution_count": 269,
   "metadata": {},
   "outputs": [
    {
     "data": {
      "text/plain": [
       "bikeid    9685\n",
       "dtype: int64"
      ]
     },
     "execution_count": 269,
     "metadata": {},
     "output_type": "execute_result"
    }
   ],
   "source": [
    "#remove duplicates\n",
    "disqualified_bikes_all = disqualified_bikes_all[['bikeid']].drop_duplicates(keep='first')\n",
    "disqualified_bikes_all.count()"
   ]
  },
  {
   "cell_type": "code",
   "execution_count": 270,
   "metadata": {},
   "outputs": [
    {
     "data": {
      "text/plain": [
       "bikeid        5166\n",
       "value_disq       0\n",
       "dtype: int64"
      ]
     },
     "execution_count": 270,
     "metadata": {},
     "output_type": "execute_result"
    }
   ],
   "source": [
    "#get the possible ebike list without the disqualified bikes\n",
    "disqualified_bikes_all['value_disq'] = 1\n",
    "poss_ebikes_all = bike_list.merge(disqualified_bikes_all, how='left', on='bikeid')\n",
    "poss_ebikes_all = poss_ebikes_all[poss_ebikes_all['value_disq'].isnull()]\n",
    "poss_ebikes_all.count()"
   ]
  },
  {
   "cell_type": "code",
   "execution_count": null,
   "metadata": {},
   "outputs": [],
   "source": []
  }
 ],
 "metadata": {
  "kernelspec": {
   "display_name": "Python 3",
   "language": "python",
   "name": "python3"
  },
  "language_info": {
   "codemirror_mode": {
    "name": "ipython",
    "version": 3
   },
   "file_extension": ".py",
   "mimetype": "text/x-python",
   "name": "python",
   "nbconvert_exporter": "python",
   "pygments_lexer": "ipython3",
   "version": "3.6.5"
  }
 },
 "nbformat": 4,
 "nbformat_minor": 2
}

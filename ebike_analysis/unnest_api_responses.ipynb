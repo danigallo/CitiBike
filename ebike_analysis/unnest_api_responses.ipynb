{
 "cells": [
  {
   "cell_type": "markdown",
   "metadata": {},
   "source": [
    "This notebook unnest the mapbox api json responses into dataframes in order to join the route responses with their corresponding source/target stations pairs"
   ]
  },
  {
   "cell_type": "code",
   "execution_count": 99,
   "metadata": {},
   "outputs": [],
   "source": [
    "import pandas as pd\n",
    "import json\n",
    "from pandas.io.json import json_normalize\n",
    "import simplejson"
   ]
  },
  {
   "cell_type": "code",
   "execution_count": 98,
   "metadata": {},
   "outputs": [],
   "source": [
    "#import chunked api responses\n",
    "data = json.load(open('routes30k.json'))"
   ]
  },
  {
   "cell_type": "code",
   "execution_count": 100,
   "metadata": {},
   "outputs": [],
   "source": [
    "#replacement values for api responses that came with errors\n",
    "replace = {'code': 'NoValue',\n",
    "  'routes': [{'distance': 'NoValue',\n",
    "    'duration': 'NoValue',\n",
    "    'geometry': {'coordinates': [['NoValue', 'NoValue']],\n",
    "     'type': 'NoValue'},\n",
    "    'legs': [{'distance': 'NoValue',\n",
    "      'duration': 'NoValue',\n",
    "      'steps': [],\n",
    "      'summary': '',\n",
    "      'weight': 'NoValue'}],\n",
    "    'weight': 'NoValue',\n",
    "    'weight_name': 'NoValue'}],\n",
    "  'uuid': 'NoValue',\n",
    "  'waypoints': [{'location': ['NoValue', 'NoValue'],\n",
    "    'name': 'Central Park West'},\n",
    "   {'location': ['NoValue', 'NoValue'], 'name': 'NoValue'}]}\n",
    "\n",
    "for number in data:\n",
    "    for key in data[number]:\n",
    "        if 'message' in key:\n",
    "            data[number] = replace\n"
   ]
  },
  {
   "cell_type": "code",
   "execution_count": 101,
   "metadata": {},
   "outputs": [],
   "source": [
    "#create a new json file with the updated responses\n",
    "json.dump(data,open('request_new.json','w'),indent=2)\n",
    "data = json.load(open('request_new.json'))"
   ]
  },
  {
   "cell_type": "code",
   "execution_count": 53,
   "metadata": {},
   "outputs": [],
   "source": [
    "#unnest api responses\n",
    "status = []\n",
    "routes = []\n",
    "for trip in data:\n",
    "    status.append(data[trip]['code'])\n",
    "    routes.append(data[trip]['routes'])"
   ]
  },
  {
   "cell_type": "code",
   "execution_count": 102,
   "metadata": {},
   "outputs": [],
   "source": [
    "#contnue to unnest route api responses into the next level\n",
    "#transform these responses into individual dataframes\n",
    "dist = []\n",
    "dur = []\n",
    "geom = []\n",
    "\n",
    "i = 0\n",
    "\n",
    "while i < 2413:\n",
    "    dist.append(routes[i][0]['distance'])\n",
    "    dur.append(routes[i][0]['duration'])\n",
    "    geom.append(routes[i][0]['geometry'])\n",
    "    i=i+1\n",
    "\n",
    "distance = pd.DataFrame(dist)\n",
    "duration = pd.DataFrame(dur)\n",
    "geometry = pd.DataFrame(geom)"
   ]
  },
  {
   "cell_type": "code",
   "execution_count": 56,
   "metadata": {},
   "outputs": [],
   "source": [
    "#rename route responses columns\n",
    "distance = distance.rename(columns={distance.columns[0]:'distance'})\n",
    "duration = duration.rename(columns={duration.columns[0]:'duration'})\n",
    "geometry = geometry.rename(columns={geometry.columns[0]:'geometry'})"
   ]
  },
  {
   "cell_type": "code",
   "execution_count": 57,
   "metadata": {},
   "outputs": [],
   "source": [
    "#rename status response oclumn\n",
    "status = pd.DataFrame(status)\n",
    "status = status.rename(columns={status.columns[0]:'status'})"
   ]
  },
  {
   "cell_type": "code",
   "execution_count": 58,
   "metadata": {},
   "outputs": [],
   "source": [
    "#join all dataframes into one\n",
    "mapbox_dirs = status.join(distance)\n",
    "mapbox_dirs = mapbox_dirs.join(duration)\n",
    "mapbox_dirs = mapbox_dirs.join(geometry)"
   ]
  },
  {
   "cell_type": "code",
   "execution_count": 59,
   "metadata": {},
   "outputs": [],
   "source": [
    "#save dataframe into a csv\n",
    "mapbox_dirs.to_csv('map_30k.csv')"
   ]
  },
  {
   "cell_type": "code",
   "execution_count": 63,
   "metadata": {},
   "outputs": [],
   "source": [
    "#import all saved csvs\n",
    "map10 = pd.read_csv('map_10k.csv')\n",
    "map20 = pd.read_csv('map_20k.csv')\n",
    "map30 = pd.read_csv('map_30k.csv')\n",
    "map40 = pd.read_csv('map_40k.csv')\n",
    "map50 = pd.read_csv('map_50k.csv')\n",
    "map60 = pd.read_csv('map_60k.csv')\n",
    "map70 = pd.read_csv('map_70k.csv')"
   ]
  },
  {
   "cell_type": "code",
   "execution_count": 65,
   "metadata": {},
   "outputs": [],
   "source": [
    "#append all responses dataframes to eachother\n",
    "routes_info = pd.concat([map10,map20,map30,map40, map50, map60, map70])"
   ]
  },
  {
   "cell_type": "code",
   "execution_count": 66,
   "metadata": {},
   "outputs": [],
   "source": [
    "routes_info = routes_info.reset_index()"
   ]
  },
  {
   "cell_type": "code",
   "execution_count": 67,
   "metadata": {},
   "outputs": [],
   "source": [
    "routes_info = routes_info.drop(columns=['index','Unnamed: 0'])"
   ]
  },
  {
   "cell_type": "code",
   "execution_count": 68,
   "metadata": {},
   "outputs": [],
   "source": [
    "#import dataframe of the 70k stations sent to the mapbox api\n",
    "api_stations = pd.read_csv('stations_sent_to_api.csv')"
   ]
  },
  {
   "cell_type": "code",
   "execution_count": 69,
   "metadata": {},
   "outputs": [],
   "source": [
    "#join station directions with the routes dataframe\n",
    "station_directions = routes_info.join(api_stations)"
   ]
  },
  {
   "cell_type": "code",
   "execution_count": 72,
   "metadata": {},
   "outputs": [],
   "source": [
    "#filter out \"no value\" responses\n",
    "station_directions = station_directions[station_directions['duration']!='NoValue']\n",
    "station_directions.to_csv('directions.csv')"
   ]
  }
 ],
 "metadata": {
  "kernelspec": {
   "display_name": "Python 3",
   "language": "python",
   "name": "python3"
  },
  "language_info": {
   "codemirror_mode": {
    "name": "ipython",
    "version": 3
   },
   "file_extension": ".py",
   "mimetype": "text/x-python",
   "name": "python",
   "nbconvert_exporter": "python",
   "pygments_lexer": "ipython3",
   "version": "3.6.5"
  }
 },
 "nbformat": 4,
 "nbformat_minor": 2
}

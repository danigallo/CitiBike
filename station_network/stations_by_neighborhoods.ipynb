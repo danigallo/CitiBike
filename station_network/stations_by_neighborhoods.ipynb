{
 "cells": [
  {
   "cell_type": "code",
   "execution_count": 9,
   "metadata": {},
   "outputs": [],
   "source": [
    "import pandas as pd\n",
    "import json\n",
    "pd.options.display.max_rows = 10000\n",
    "pd.options.display.max_columns = 10000\n",
    "from pandas.io.json import json_normalize\n",
    "import datetime"
   ]
  },
  {
   "cell_type": "code",
   "execution_count": 10,
   "metadata": {},
   "outputs": [],
   "source": [
    "#create network undirected edgelist"
   ]
  },
  {
   "cell_type": "code",
   "execution_count": 45,
   "metadata": {},
   "outputs": [],
   "source": [
    "#import jan 2018 - oct 2018 citi bike trip data\n",
    "bike_trips = pd.read_csv('~/Desktop/Pratt/fall2018/ad_data_vis/analysis/tripdata_2018.csv')\n"
   ]
  },
  {
   "cell_type": "code",
   "execution_count": 80,
   "metadata": {},
   "outputs": [],
   "source": [
    "#select timeframe\n",
    "start_date = '2018-08-20'\n",
    "end_date = '2018-10-28'\n",
    "\n",
    "#filter trip data by desired start and end dates\n",
    "trips = bike_trips[bike_trips['starttime'] >= start_date]\n",
    "trips = trips[trips['starttime'] <= end_date]"
   ]
  },
  {
   "cell_type": "code",
   "execution_count": 81,
   "metadata": {},
   "outputs": [],
   "source": [
    "#import stations with nta code\n",
    "stations = pd.read_csv('station_nta.csv')"
   ]
  },
  {
   "cell_type": "code",
   "execution_count": 85,
   "metadata": {},
   "outputs": [],
   "source": [
    "#remove station id decimals and make all station ids strings\n",
    "stations['id'] = stations['id'].fillna(0).astype(int).astype(str)\n",
    "trips['start station id'] = trips['start station id'].fillna(0).astype(float).astype(int).astype(str)\n",
    "trips['end station id'] = trips['end station id'].fillna(0).astype(float).astype(int).astype(str)"
   ]
  },
  {
   "cell_type": "code",
   "execution_count": 86,
   "metadata": {},
   "outputs": [
    {
     "data": {
      "text/html": [
       "<div>\n",
       "<style scoped>\n",
       "    .dataframe tbody tr th:only-of-type {\n",
       "        vertical-align: middle;\n",
       "    }\n",
       "\n",
       "    .dataframe tbody tr th {\n",
       "        vertical-align: top;\n",
       "    }\n",
       "\n",
       "    .dataframe thead th {\n",
       "        text-align: right;\n",
       "    }\n",
       "</style>\n",
       "<table border=\"1\" class=\"dataframe\">\n",
       "  <thead>\n",
       "    <tr style=\"text-align: right;\">\n",
       "      <th></th>\n",
       "      <th>id</th>\n",
       "      <th>ntacode</th>\n",
       "    </tr>\n",
       "  </thead>\n",
       "  <tbody>\n",
       "    <tr>\n",
       "      <th>0</th>\n",
       "      <td>143</td>\n",
       "      <td>BK09</td>\n",
       "    </tr>\n",
       "    <tr>\n",
       "      <th>1</th>\n",
       "      <td>157</td>\n",
       "      <td>BK09</td>\n",
       "    </tr>\n",
       "    <tr>\n",
       "      <th>2</th>\n",
       "      <td>216</td>\n",
       "      <td>BK09</td>\n",
       "    </tr>\n",
       "    <tr>\n",
       "      <th>3</th>\n",
       "      <td>314</td>\n",
       "      <td>BK09</td>\n",
       "    </tr>\n",
       "    <tr>\n",
       "      <th>4</th>\n",
       "      <td>322</td>\n",
       "      <td>BK09</td>\n",
       "    </tr>\n",
       "  </tbody>\n",
       "</table>\n",
       "</div>"
      ],
      "text/plain": [
       "    id ntacode\n",
       "0  143    BK09\n",
       "1  157    BK09\n",
       "2  216    BK09\n",
       "3  314    BK09\n",
       "4  322    BK09"
      ]
     },
     "execution_count": 86,
     "metadata": {},
     "output_type": "execute_result"
    }
   ],
   "source": [
    "#get station id and neighborhood code\n",
    "stations_nta = stations[['id', 'ntacode']]\n",
    "stations_nta.head()"
   ]
  },
  {
   "cell_type": "code",
   "execution_count": 87,
   "metadata": {},
   "outputs": [],
   "source": [
    "#add neighborhood info to trips\n",
    "\n",
    "#get start station neighborhood\n",
    "trips_nta = pd.merge(trips, stations_nta, how='left', left_on='start station id', right_on='id')\n",
    "trips_nta = trips_nta.rename(columns={'ntacode':'start_station_neighborhood'})\n",
    "\n",
    "#get end station neighborhood\n",
    "trips_nta = pd.merge(trips_nta, stations_nta, how='left', left_on='end station id', right_on='id')\n",
    "trips_nta = trips_nta.rename(columns={'ntacode':'end_station_neighborhood'})"
   ]
  },
  {
   "cell_type": "code",
   "execution_count": 88,
   "metadata": {},
   "outputs": [],
   "source": [
    "trips_nta = trips_nta.drop(columns=['id_x', 'id_y'])"
   ]
  },
  {
   "cell_type": "code",
   "execution_count": 89,
   "metadata": {},
   "outputs": [
    {
     "data": {
      "text/html": [
       "<div>\n",
       "<style scoped>\n",
       "    .dataframe tbody tr th:only-of-type {\n",
       "        vertical-align: middle;\n",
       "    }\n",
       "\n",
       "    .dataframe tbody tr th {\n",
       "        vertical-align: top;\n",
       "    }\n",
       "\n",
       "    .dataframe thead th {\n",
       "        text-align: right;\n",
       "    }\n",
       "</style>\n",
       "<table border=\"1\" class=\"dataframe\">\n",
       "  <thead>\n",
       "    <tr style=\"text-align: right;\">\n",
       "      <th></th>\n",
       "      <th>tripduration</th>\n",
       "      <th>starttime</th>\n",
       "      <th>stoptime</th>\n",
       "      <th>start station id</th>\n",
       "      <th>start station name</th>\n",
       "      <th>start station latitude</th>\n",
       "      <th>start station longitude</th>\n",
       "      <th>end station id</th>\n",
       "      <th>end station name</th>\n",
       "      <th>end station latitude</th>\n",
       "      <th>end station longitude</th>\n",
       "      <th>bikeid</th>\n",
       "      <th>usertype</th>\n",
       "      <th>birth year</th>\n",
       "      <th>gender</th>\n",
       "      <th>start_station_neighborhood</th>\n",
       "      <th>end_station_neighborhood</th>\n",
       "    </tr>\n",
       "  </thead>\n",
       "  <tbody>\n",
       "    <tr>\n",
       "      <th>0</th>\n",
       "      <td>757</td>\n",
       "      <td>2018-08-20 00:00:09.4670</td>\n",
       "      <td>2018-08-20 00:12:47.3730</td>\n",
       "      <td>386</td>\n",
       "      <td>Centre St &amp; Worth St</td>\n",
       "      <td>40.714948</td>\n",
       "      <td>-74.002345</td>\n",
       "      <td>394</td>\n",
       "      <td>E 9 St &amp; Avenue C</td>\n",
       "      <td>40.725213</td>\n",
       "      <td>-73.977688</td>\n",
       "      <td>30808</td>\n",
       "      <td>Subscriber</td>\n",
       "      <td>1984</td>\n",
       "      <td>1</td>\n",
       "      <td>MN24</td>\n",
       "      <td>MN28</td>\n",
       "    </tr>\n",
       "    <tr>\n",
       "      <th>1</th>\n",
       "      <td>358</td>\n",
       "      <td>2018-08-20 00:00:14.6380</td>\n",
       "      <td>2018-08-20 00:06:13.5760</td>\n",
       "      <td>2023</td>\n",
       "      <td>E 55 St &amp; Lexington Ave</td>\n",
       "      <td>40.759681</td>\n",
       "      <td>-73.970314</td>\n",
       "      <td>3136</td>\n",
       "      <td>5 Ave &amp; E 63 St</td>\n",
       "      <td>40.766368</td>\n",
       "      <td>-73.971518</td>\n",
       "      <td>21382</td>\n",
       "      <td>Subscriber</td>\n",
       "      <td>1994</td>\n",
       "      <td>1</td>\n",
       "      <td>MN19</td>\n",
       "      <td>MN40</td>\n",
       "    </tr>\n",
       "    <tr>\n",
       "      <th>2</th>\n",
       "      <td>427</td>\n",
       "      <td>2018-08-20 00:00:17.7370</td>\n",
       "      <td>2018-08-20 00:07:24.7650</td>\n",
       "      <td>3314</td>\n",
       "      <td>W 95 St &amp; Broadway</td>\n",
       "      <td>40.793770</td>\n",
       "      <td>-73.971888</td>\n",
       "      <td>3357</td>\n",
       "      <td>W 106 St &amp; Amsterdam Ave</td>\n",
       "      <td>40.800836</td>\n",
       "      <td>-73.966449</td>\n",
       "      <td>20847</td>\n",
       "      <td>Subscriber</td>\n",
       "      <td>1999</td>\n",
       "      <td>2</td>\n",
       "      <td>MN12</td>\n",
       "      <td>MN09</td>\n",
       "    </tr>\n",
       "    <tr>\n",
       "      <th>3</th>\n",
       "      <td>1545</td>\n",
       "      <td>2018-08-20 00:00:22.6760</td>\n",
       "      <td>2018-08-20 00:26:08.1820</td>\n",
       "      <td>281</td>\n",
       "      <td>Grand Army Plaza &amp; Central Park S</td>\n",
       "      <td>40.764397</td>\n",
       "      <td>-73.973715</td>\n",
       "      <td>3163</td>\n",
       "      <td>Central Park West &amp; W 68 St</td>\n",
       "      <td>40.773407</td>\n",
       "      <td>-73.977825</td>\n",
       "      <td>28424</td>\n",
       "      <td>Customer</td>\n",
       "      <td>1969</td>\n",
       "      <td>0</td>\n",
       "      <td>MN17</td>\n",
       "      <td>MN14</td>\n",
       "    </tr>\n",
       "    <tr>\n",
       "      <th>4</th>\n",
       "      <td>731</td>\n",
       "      <td>2018-08-20 00:00:23.3130</td>\n",
       "      <td>2018-08-20 00:12:34.7770</td>\n",
       "      <td>3121</td>\n",
       "      <td>Jackson Ave &amp; 46 Rd</td>\n",
       "      <td>40.745248</td>\n",
       "      <td>-73.947333</td>\n",
       "      <td>3116</td>\n",
       "      <td>Huron St &amp; Franklin St</td>\n",
       "      <td>40.732660</td>\n",
       "      <td>-73.958260</td>\n",
       "      <td>33372</td>\n",
       "      <td>Customer</td>\n",
       "      <td>1969</td>\n",
       "      <td>0</td>\n",
       "      <td>QN31</td>\n",
       "      <td>BK76</td>\n",
       "    </tr>\n",
       "  </tbody>\n",
       "</table>\n",
       "</div>"
      ],
      "text/plain": [
       "   tripduration                 starttime                  stoptime  \\\n",
       "0           757  2018-08-20 00:00:09.4670  2018-08-20 00:12:47.3730   \n",
       "1           358  2018-08-20 00:00:14.6380  2018-08-20 00:06:13.5760   \n",
       "2           427  2018-08-20 00:00:17.7370  2018-08-20 00:07:24.7650   \n",
       "3          1545  2018-08-20 00:00:22.6760  2018-08-20 00:26:08.1820   \n",
       "4           731  2018-08-20 00:00:23.3130  2018-08-20 00:12:34.7770   \n",
       "\n",
       "  start station id                 start station name  start station latitude  \\\n",
       "0              386               Centre St & Worth St               40.714948   \n",
       "1             2023            E 55 St & Lexington Ave               40.759681   \n",
       "2             3314                 W 95 St & Broadway               40.793770   \n",
       "3              281  Grand Army Plaza & Central Park S               40.764397   \n",
       "4             3121                Jackson Ave & 46 Rd               40.745248   \n",
       "\n",
       "   start station longitude end station id             end station name  \\\n",
       "0               -74.002345            394            E 9 St & Avenue C   \n",
       "1               -73.970314           3136              5 Ave & E 63 St   \n",
       "2               -73.971888           3357     W 106 St & Amsterdam Ave   \n",
       "3               -73.973715           3163  Central Park West & W 68 St   \n",
       "4               -73.947333           3116       Huron St & Franklin St   \n",
       "\n",
       "   end station latitude  end station longitude  bikeid    usertype  \\\n",
       "0             40.725213             -73.977688   30808  Subscriber   \n",
       "1             40.766368             -73.971518   21382  Subscriber   \n",
       "2             40.800836             -73.966449   20847  Subscriber   \n",
       "3             40.773407             -73.977825   28424    Customer   \n",
       "4             40.732660             -73.958260   33372    Customer   \n",
       "\n",
       "   birth year  gender start_station_neighborhood end_station_neighborhood  \n",
       "0        1984       1                       MN24                     MN28  \n",
       "1        1994       1                       MN19                     MN40  \n",
       "2        1999       2                       MN12                     MN09  \n",
       "3        1969       0                       MN17                     MN14  \n",
       "4        1969       0                       QN31                     BK76  "
      ]
     },
     "execution_count": 89,
     "metadata": {},
     "output_type": "execute_result"
    }
   ],
   "source": [
    "trips_nta.head()"
   ]
  },
  {
   "cell_type": "code",
   "execution_count": 92,
   "metadata": {},
   "outputs": [],
   "source": [
    "trips_nta_grouped = trips_nta.groupby(['start_station_neighborhood','end_station_neighborhood'])['bikeid'].count().reset_index()"
   ]
  },
  {
   "cell_type": "code",
   "execution_count": 93,
   "metadata": {},
   "outputs": [],
   "source": [
    "#use only to get undirected edgelist\n",
    "\n",
    "#get min of start and end stations as 'source'\n",
    "trips_nta_grouped['source'] = trips_nta_grouped[['start_station_neighborhood', 'end_station_neighborhood']].min(axis=1).astype(str)\n",
    "\n",
    "#get max of start and end stations as 'target'\n",
    "trips_nta_grouped['target'] = trips_nta_grouped[['start_station_neighborhood', 'end_station_neighborhood']].max(axis=1).astype(str)\n",
    "\n",
    "#group df by source and target\n",
    "trips_nta_grouped = trips_nta_grouped.groupby(['source', 'target'])['bikeid'].sum().reset_index()\n"
   ]
  },
  {
   "cell_type": "code",
   "execution_count": 94,
   "metadata": {},
   "outputs": [],
   "source": [
    "#change 'bikeid' column name to 'weight'\n",
    "trips_nta_grouped = trips_nta_grouped.rename(index=str,columns={'bikeid':'weight'})"
   ]
  },
  {
   "cell_type": "code",
   "execution_count": 96,
   "metadata": {},
   "outputs": [],
   "source": [
    "trips_nta_grouped.to_csv('undir_neighborhood_network_' + start_date + '-' + end_date + '.csv', index=False)"
   ]
  }
 ],
 "metadata": {
  "kernelspec": {
   "display_name": "Python 3",
   "language": "python",
   "name": "python3"
  },
  "language_info": {
   "codemirror_mode": {
    "name": "ipython",
    "version": 3
   },
   "file_extension": ".py",
   "mimetype": "text/x-python",
   "name": "python",
   "nbconvert_exporter": "python",
   "pygments_lexer": "ipython3",
   "version": "3.6.5"
  }
 },
 "nbformat": 4,
 "nbformat_minor": 2
}
